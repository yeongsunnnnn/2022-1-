{
  "nbformat": 4,
  "nbformat_minor": 0,
  "metadata": {
    "colab": {
      "name": "20220425.ipynb",
      "provenance": [],
      "authorship_tag": "ABX9TyPdsb6XlR6xEC2BwzgTRAr7",
      "include_colab_link": true
    },
    "kernelspec": {
      "name": "python3",
      "display_name": "Python 3"
    },
    "language_info": {
      "name": "python"
    }
  },
  "cells": [
    {
      "cell_type": "markdown",
      "metadata": {
        "id": "view-in-github",
        "colab_type": "text"
      },
      "source": [
        "<a href=\"https://colab.research.google.com/github/yeongsunnnnn/2022-1-/blob/main/20220425.ipynb\" target=\"_parent\"><img src=\"https://colab.research.google.com/assets/colab-badge.svg\" alt=\"Open In Colab\"/></a>"
      ]
    },
    {
      "cell_type": "markdown",
      "source": [
        ""
      ],
      "metadata": {
        "id": "QuW_MaFFy0cg"
      }
    },
    {
      "cell_type": "markdown",
      "source": [
        "1. Auto correlation\n",
        ": correlation은 두 변수 간의 선형적 관계를 측정하고자 할 때 사용된다. 그러나 auto correlation은 자기 자신(auto)과 correlation을 알아보자 할 때 사용된다. 자기 자신과의 관계이기 때문에 lag된 값을 이용한다. 즉, 시계열의 시차 값(lagged values) 사이에 존재하는 선형 관계를 측정하는 것이다. auto correlation을 그릴 때에는 보통 상관도표(correlogram)이라고 알려져 있는 자기상관함수(ACF)를 나타내기 위해 그린다."
      ],
      "metadata": {
        "id": "ENy4TLbay143"
      }
    },
    {
      "cell_type": "code",
      "source": [
        "#Auto correlation 구하는 법 예시\n",
        "#define data\n",
        "x = [22, 24, 25, 25, 28, 29, 34, 37, 40, 44, 51, 48, 47, 50, 51]\n",
        "\n",
        "import statsmodels.api as sm\n",
        "\n",
        "#calculate autocorrelations\n",
        "sm.tsa.acf(x)\n"
      ],
      "metadata": {
        "colab": {
          "base_uri": "https://localhost:8080/"
        },
        "id": "7xTcbMFdAY1F",
        "outputId": "0fa7b0e2-7034-41b6-b02f-d04025fb4dc7"
      },
      "execution_count": 17,
      "outputs": [
        {
          "output_type": "stream",
          "name": "stderr",
          "text": [
            "/usr/local/lib/python3.7/dist-packages/statsmodels/tsa/stattools.py:541: FutureWarning: fft=True will become the default in a future version of statsmodels. To suppress this warning, explicitly set fft=False.\n",
            "  warnings.warn(msg, FutureWarning)\n"
          ]
        },
        {
          "output_type": "execute_result",
          "data": {
            "text/plain": [
              "array([ 1.        ,  0.83174224,  0.65632458,  0.49105012,  0.27863962,\n",
              "        0.03102625, -0.16527446, -0.30369928, -0.40095465, -0.45823389,\n",
              "       -0.45047733, -0.36933174, -0.29057279, -0.22494033, -0.12529833])"
            ]
          },
          "metadata": {},
          "execution_count": 17
        }
      ]
    },
    {
      "cell_type": "markdown",
      "source": [
        "2. Root mean square: 평균값, 중앙값, 최빈값 등과 같이 어떤 집단의 특징이나 경향을 나타내는 대표값의 일종이다. 평균값과 매우 유사한 성격의 값이지만 평균값, 피크값 만으으로 파형 특성의 유용한 판단 수단이 되지 못할 때 자주 사용된다. 서로 다른 파형 간의 적절한 비교의 척도로써 매우 적절하기 때문이다. 전기, 전자 분야 뿐만 아니라 크기와 극성이 함께 변하는 값을 다루는 기술분야에서는 널리 채용되어 쓰이고 있다. \n"
      ],
      "metadata": {
        "id": "w1cGHL3j3hHe"
      }
    },
    {
      "cell_type": "code",
      "source": [
        "#MSE 구하는 법 예시\n",
        "Y_predict = X_b.dot( theta )\n",
        "\n",
        "print(Y_predict.shape, X_b.shape, theta.shape)\n",
        "\n",
        "mse = np.sum( (Y_predict-Y)**2 ) / 1000.0\n",
        "\n",
        "print('mse: ', mse)"
      ],
      "metadata": {
        "colab": {
          "base_uri": "https://localhost:8080/"
        },
        "id": "mss_3UdH8ifJ",
        "outputId": "21d5217f-19fb-4f04-c0a2-1f93a7f97475"
      },
      "execution_count": 5,
      "outputs": [
        {
          "output_type": "stream",
          "name": "stdout",
          "text": [
            "(1000, 10000) (1000, 2) (2, 10000)\n",
            "mse:  1046343.2377044946\n"
          ]
        }
      ]
    }
  ]
}