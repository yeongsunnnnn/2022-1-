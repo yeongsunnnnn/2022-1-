{
  "nbformat": 4,
  "nbformat_minor": 0,
  "metadata": {
    "colab": {
      "name": "20220316.ipynb",
      "provenance": [],
      "collapsed_sections": [],
      "authorship_tag": "ABX9TyMxP2/G1bOyDIx9sSmx4Y2g",
      "include_colab_link": true
    },
    "kernelspec": {
      "name": "python3",
      "display_name": "Python 3"
    },
    "language_info": {
      "name": "python"
    }
  },
  "cells": [
    {
      "cell_type": "markdown",
      "metadata": {
        "id": "view-in-github",
        "colab_type": "text"
      },
      "source": [
        "<a href=\"https://colab.research.google.com/github/yeongsunnnnn/2022-1-/blob/main/20220316.ipynb\" target=\"_parent\"><img src=\"https://colab.research.google.com/assets/colab-badge.svg\" alt=\"Open In Colab\"/></a>"
      ]
    },
    {
      "cell_type": "markdown",
      "source": [
        "중요한 것: 변수, 문법, 함수, package\n",
        "DATA: Text, Sound, Image\n",
        "1. 변수에 관하여\n",
        "변수: variables\n",
        "1) Numbers\n",
        "2) String (text)\n",
        "3) List (비슷한 것:tuple)\n",
        "4) Dictionary"
      ],
      "metadata": {
        "id": "dOFva87KFVME"
      }
    },
    {
      "cell_type": "code",
      "source": [
        "a=1"
      ],
      "metadata": {
        "id": "tgSbDiYOF8BW"
      },
      "execution_count": 1,
      "outputs": []
    },
    {
      "cell_type": "markdown",
      "source": [
        "(a=1 인 것처럼 정수일 때)"
      ],
      "metadata": {
        "id": "GQ-V-bgGGY6B"
      }
    },
    {
      "cell_type": "code",
      "source": [
        "print(a)"
      ],
      "metadata": {
        "colab": {
          "base_uri": "https://localhost:8080/"
        },
        "id": "Sq2I6IXIGAn4",
        "outputId": "de7e5a7c-8eca-4555-d45d-5d7d7de2c7fd"
      },
      "execution_count": 2,
      "outputs": [
        {
          "output_type": "stream",
          "name": "stdout",
          "text": [
            "1\n"
          ]
        }
      ]
    },
    {
      "cell_type": "code",
      "source": [
        "print(type(a))"
      ],
      "metadata": {
        "colab": {
          "base_uri": "https://localhost:8080/"
        },
        "id": "BEgl93e-GEqN",
        "outputId": "3fe23e7a-b098-4fbe-92de-ca66def1c558"
      },
      "execution_count": 3,
      "outputs": [
        {
          "output_type": "stream",
          "name": "stdout",
          "text": [
            "<class 'int'>\n"
          ]
        }
      ]
    },
    {
      "cell_type": "code",
      "source": [
        "a=2\n",
        "print(type(a))\n",
        "print(a)"
      ],
      "metadata": {
        "colab": {
          "base_uri": "https://localhost:8080/"
        },
        "id": "nFqLQfAEGJ6l",
        "outputId": "857187ef-0398-44c9-e148-01c2b901cb1f"
      },
      "execution_count": 5,
      "outputs": [
        {
          "output_type": "stream",
          "name": "stdout",
          "text": [
            "<class 'int'>\n",
            "2\n"
          ]
        }
      ]
    },
    {
      "cell_type": "markdown",
      "source": [
        "a=2로 변하였기 때문에, a=1이 아닌 최신정보 a=2에 해당함"
      ],
      "metadata": {
        "id": "nFF8XW1mGe3p"
      }
    },
    {
      "cell_type": "code",
      "source": [
        "a=1.1"
      ],
      "metadata": {
        "id": "J9qUlkTcGV5M"
      },
      "execution_count": 7,
      "outputs": []
    },
    {
      "cell_type": "markdown",
      "source": [
        "a=1.1 처럼 정수가 아닌 실수 일 때,"
      ],
      "metadata": {
        "id": "ntBH5ZUWGnUT"
      }
    },
    {
      "cell_type": "code",
      "source": [
        "print(type(a))\n",
        "print (a)"
      ],
      "metadata": {
        "colab": {
          "base_uri": "https://localhost:8080/"
        },
        "id": "A-GBZbiBGsZt",
        "outputId": "f1d2f86c-85e7-4760-b9b2-2f4059dd219b"
      },
      "execution_count": 8,
      "outputs": [
        {
          "output_type": "stream",
          "name": "stdout",
          "text": [
            "<class 'float'>\n",
            "1.1\n"
          ]
        }
      ]
    },
    {
      "cell_type": "code",
      "source": [
        "a='123'"
      ],
      "metadata": {
        "id": "wlOT6lH0G5JU"
      },
      "execution_count": 12,
      "outputs": []
    },
    {
      "cell_type": "markdown",
      "source": [
        "a='123'처럼 string 일 때 (중요한 점:''또는 \"\" 작성하기)"
      ],
      "metadata": {
        "id": "k7nZRBU3HFUm"
      }
    },
    {
      "cell_type": "code",
      "source": [
        "print(type(a))\n",
        "print(a)"
      ],
      "metadata": {
        "colab": {
          "base_uri": "https://localhost:8080/"
        },
        "id": "XFZUjGSBHLBD",
        "outputId": "8a9317a4-405c-4366-8c1f-d1d4ddb1b5e0"
      },
      "execution_count": 13,
      "outputs": [
        {
          "output_type": "stream",
          "name": "stdout",
          "text": [
            "<class 'str'>\n",
            "123\n"
          ]
        }
      ]
    },
    {
      "cell_type": "code",
      "source": [
        "a='hello'"
      ],
      "metadata": {
        "id": "gRAi8UekHSKl"
      },
      "execution_count": 14,
      "outputs": []
    },
    {
      "cell_type": "markdown",
      "source": [
        "a='hello' 처럼 list 일 때 (중요한 점: '' 또는 \"\" 작성하기)"
      ],
      "metadata": {
        "id": "K9Ba8xIYHUYt"
      }
    },
    {
      "cell_type": "code",
      "source": [
        "print(type(a))\n",
        "print(a)"
      ],
      "metadata": {
        "colab": {
          "base_uri": "https://localhost:8080/"
        },
        "id": "Sl3ffUepHiJ4",
        "outputId": "3d63c7a7-7d88-4d3a-9624-fa7e08b78bc9"
      },
      "execution_count": 15,
      "outputs": [
        {
          "output_type": "stream",
          "name": "stdout",
          "text": [
            "<class 'str'>\n",
            "hello\n"
          ]
        }
      ]
    },
    {
      "cell_type": "code",
      "source": [
        "a=[1, 'a', [3, '4']]"
      ],
      "metadata": {
        "id": "l9v-h-WyHqZ0"
      },
      "execution_count": 16,
      "outputs": []
    },
    {
      "cell_type": "markdown",
      "source": [
        "string과 number, list가 함께 -> 크기는 3 items"
      ],
      "metadata": {
        "id": "d9imocCfH0aS"
      }
    },
    {
      "cell_type": "code",
      "source": [
        "print(a)\n",
        "print(type(a))"
      ],
      "metadata": {
        "colab": {
          "base_uri": "https://localhost:8080/"
        },
        "id": "uvc_Cyd9H47d",
        "outputId": "3056c152-bf94-4c51-ca0e-c25f46f552c6"
      },
      "execution_count": 20,
      "outputs": [
        {
          "output_type": "stream",
          "name": "stdout",
          "text": [
            "[1, 'a', [3, 4]]\n",
            "<class 'list'>\n"
          ]
        }
      ]
    },
    {
      "cell_type": "markdown",
      "source": [
        "list의 인덱싱"
      ],
      "metadata": {
        "id": "xfkc4PA6ITYA"
      }
    },
    {
      "cell_type": "code",
      "source": [
        "a=[1, 2, 3, 4]"
      ],
      "metadata": {
        "id": "qyplcGOZIVR5"
      },
      "execution_count": 28,
      "outputs": []
    },
    {
      "cell_type": "code",
      "source": [
        "a[2]"
      ],
      "metadata": {
        "colab": {
          "base_uri": "https://localhost:8080/"
        },
        "id": "xOv_PTfGIa21",
        "outputId": "c28a76b3-b4c4-450a-d3bd-5cdcc81e4d9c"
      },
      "execution_count": 30,
      "outputs": [
        {
          "output_type": "execute_result",
          "data": {
            "text/plain": [
              "3"
            ]
          },
          "metadata": {},
          "execution_count": 30
        }
      ]
    },
    {
      "cell_type": "markdown",
      "source": [
        "a라는 list에서 2번째 (실제로는 3번째로 생각해야 함)는 3이라는 뜻"
      ],
      "metadata": {
        "id": "9Hg3s88DJOiY"
      }
    },
    {
      "cell_type": "code",
      "source": [
        "a=[1, 2, 3, 4, 5, 6, 7]"
      ],
      "metadata": {
        "id": "gqErRYrgJVCi"
      },
      "execution_count": 31,
      "outputs": []
    },
    {
      "cell_type": "code",
      "source": [
        "a[2:-1]"
      ],
      "metadata": {
        "colab": {
          "base_uri": "https://localhost:8080/"
        },
        "id": "28tLX1vgJatH",
        "outputId": "ad29c9ed-d961-4055-bc83-532e18916c7c"
      },
      "execution_count": 32,
      "outputs": [
        {
          "output_type": "execute_result",
          "data": {
            "text/plain": [
              "[3, 4, 5, 6]"
            ]
          },
          "metadata": {},
          "execution_count": 32
        }
      ]
    },
    {
      "cell_type": "markdown",
      "source": [
        "a라는 list에서 2번째 부터 -1번째 까지를 의미함 (실제로는 3번째부터 뒤에서 두번째인 6까지)"
      ],
      "metadata": {
        "id": "4k4suJH5Je-z"
      }
    },
    {
      "cell_type": "code",
      "source": [
        "a= [1, 'a', [3, 4]]"
      ],
      "metadata": {
        "id": "MPsPaM5pJpTg"
      },
      "execution_count": 33,
      "outputs": []
    },
    {
      "cell_type": "code",
      "source": [
        "a[2][1]"
      ],
      "metadata": {
        "colab": {
          "base_uri": "https://localhost:8080/"
        },
        "id": "eQAZjU0xJxw2",
        "outputId": "cfcec339-3c0c-42c2-da86-991b9210ba5d"
      },
      "execution_count": 34,
      "outputs": [
        {
          "output_type": "execute_result",
          "data": {
            "text/plain": [
              "4"
            ]
          },
          "metadata": {},
          "execution_count": 34
        }
      ]
    },
    {
      "cell_type": "markdown",
      "source": [
        "a 에서 3번째 list, 그리고 그 중 2번째를 의미함"
      ],
      "metadata": {
        "id": "apGfPflPJ2P_"
      }
    },
    {
      "cell_type": "code",
      "source": [
        "a[:]"
      ],
      "metadata": {
        "colab": {
          "base_uri": "https://localhost:8080/"
        },
        "id": "uNpw-3LHJ9ka",
        "outputId": "b2229a92-9781-42ca-d045-d37080fe83a6"
      },
      "execution_count": 35,
      "outputs": [
        {
          "output_type": "execute_result",
          "data": {
            "text/plain": [
              "[1, 'a', [3, 4]]"
            ]
          },
          "metadata": {},
          "execution_count": 35
        }
      ]
    },
    {
      "cell_type": "markdown",
      "source": [
        "a의 첫번째부터 끝까지를 의미함"
      ],
      "metadata": {
        "id": "L36DeoPHKBDE"
      }
    },
    {
      "cell_type": "code",
      "source": [
        "a[:2]"
      ],
      "metadata": {
        "colab": {
          "base_uri": "https://localhost:8080/"
        },
        "id": "XOQfcFCiKEAs",
        "outputId": "6309b7b2-376b-4211-8f3a-8772f4f6218b"
      },
      "execution_count": 37,
      "outputs": [
        {
          "output_type": "execute_result",
          "data": {
            "text/plain": [
              "[1, 'a']"
            ]
          },
          "metadata": {},
          "execution_count": 37
        }
      ]
    },
    {
      "cell_type": "markdown",
      "source": [
        "a의 첫번째부터 2번째까지를 의미함 (왼쪽 번째는 포함하지 않음)"
      ],
      "metadata": {
        "id": "UoJhAClJKDOR"
      }
    },
    {
      "cell_type": "markdown",
      "source": [
        "Dictationary"
      ],
      "metadata": {
        "id": "RCUkcbiWKSN0"
      }
    },
    {
      "cell_type": "code",
      "source": [
        "a={\"a\" : \"apple\", \"b\" : \"orange\", \"c\" : 2014}"
      ],
      "metadata": {
        "id": "o63UGCG1KRQe"
      },
      "execution_count": 39,
      "outputs": []
    },
    {
      "cell_type": "code",
      "source": [
        "a[\"a\"]"
      ],
      "metadata": {
        "colab": {
          "base_uri": "https://localhost:8080/",
          "height": 35
        },
        "id": "wGwe3jT7KpHM",
        "outputId": "fcc17a41-fe05-482d-e79c-cd1e10604de9"
      },
      "execution_count": 41,
      "outputs": [
        {
          "output_type": "execute_result",
          "data": {
            "text/plain": [
              "'apple'"
            ],
            "application/vnd.google.colaboratory.intrinsic+json": {
              "type": "string"
            }
          },
          "metadata": {},
          "execution_count": 41
        }
      ]
    },
    {
      "cell_type": "code",
      "source": [
        "a[\"b\"]"
      ],
      "metadata": {
        "colab": {
          "base_uri": "https://localhost:8080/",
          "height": 35
        },
        "id": "NkXc-mpaKxL9",
        "outputId": "0a1e114b-19bc-4b38-c353-35e18292de17"
      },
      "execution_count": 42,
      "outputs": [
        {
          "output_type": "execute_result",
          "data": {
            "text/plain": [
              "'orange'"
            ],
            "application/vnd.google.colaboratory.intrinsic+json": {
              "type": "string"
            }
          },
          "metadata": {},
          "execution_count": 42
        }
      ]
    },
    {
      "cell_type": "code",
      "source": [
        "s= 'abcdef'"
      ],
      "metadata": {
        "id": "7T7Sf8VMLDCL"
      },
      "execution_count": 45,
      "outputs": []
    },
    {
      "cell_type": "code",
      "source": [
        "print(s[1:3], s[1:], s[:3], s[:])\n",
        "print(len(s))\n",
        "s[1]+s[3]+s[4:]*10"
      ],
      "metadata": {
        "colab": {
          "base_uri": "https://localhost:8080/",
          "height": 72
        },
        "id": "em1C_8_HLFWD",
        "outputId": "55d1c519-ae9a-4287-cc8e-9c84e0bebb15"
      },
      "execution_count": 50,
      "outputs": [
        {
          "output_type": "stream",
          "name": "stdout",
          "text": [
            "bc bcdef abc abcdef\n",
            "6\n"
          ]
        },
        {
          "output_type": "execute_result",
          "data": {
            "text/plain": [
              "'bdefefefefefefefefefef'"
            ],
            "application/vnd.google.colaboratory.intrinsic+json": {
              "type": "string"
            }
          },
          "metadata": {},
          "execution_count": 50
        }
      ]
    },
    {
      "cell_type": "markdown",
      "source": [
        "len은 길이를 뜻함, *은 곱하기를 뜻함"
      ],
      "metadata": {
        "id": "qEPlvmsvLlV9"
      }
    },
    {
      "cell_type": "code",
      "source": [
        "s.upper()"
      ],
      "metadata": {
        "colab": {
          "base_uri": "https://localhost:8080/",
          "height": 35
        },
        "id": "QvbMKVT4L4Ny",
        "outputId": "b13e0a1e-b7ee-4964-ab3a-f91e894f0af6"
      },
      "execution_count": 51,
      "outputs": [
        {
          "output_type": "execute_result",
          "data": {
            "text/plain": [
              "'ABCDEF'"
            ],
            "application/vnd.google.colaboratory.intrinsic+json": {
              "type": "string"
            }
          },
          "metadata": {},
          "execution_count": 51
        }
      ]
    },
    {
      "cell_type": "markdown",
      "source": [
        "s를 대문자로 변환"
      ],
      "metadata": {
        "id": "iDlOAKEXMF3B"
      }
    },
    {
      "cell_type": "code",
      "source": [
        "s='this is a house built this year'\n",
        "s"
      ],
      "metadata": {
        "colab": {
          "base_uri": "https://localhost:8080/",
          "height": 35
        },
        "id": "vDtylfBqLhHo",
        "outputId": "73f4e34e-349c-4437-9e48-3e04865b3063"
      },
      "execution_count": 53,
      "outputs": [
        {
          "output_type": "execute_result",
          "data": {
            "text/plain": [
              "'this is a house built this year'"
            ],
            "application/vnd.google.colaboratory.intrinsic+json": {
              "type": "string"
            }
          },
          "metadata": {},
          "execution_count": 53
        }
      ]
    },
    {
      "cell_type": "code",
      "source": [
        "result=s.find('house')\n",
        "result"
      ],
      "metadata": {
        "colab": {
          "base_uri": "https://localhost:8080/"
        },
        "id": "rv2bAwxxMR6v",
        "outputId": "c53689ef-92a8-41d6-ee6a-2569fe3ac3e1"
      },
      "execution_count": 57,
      "outputs": [
        {
          "output_type": "execute_result",
          "data": {
            "text/plain": [
              "10"
            ]
          },
          "metadata": {},
          "execution_count": 57
        }
      ]
    },
    {
      "cell_type": "markdown",
      "source": [
        "house는 몇번째에 있는가에 대한 내용"
      ],
      "metadata": {
        "id": "nrnKdUySMbpE"
      }
    },
    {
      "cell_type": "code",
      "source": [
        "s='this is a house built this year.'"
      ],
      "metadata": {
        "id": "wwTturImM7c8"
      },
      "execution_count": 64,
      "outputs": []
    },
    {
      "cell_type": "code",
      "source": [
        "tokens = s.split(' ')\n",
        "tokens"
      ],
      "metadata": {
        "colab": {
          "base_uri": "https://localhost:8080/"
        },
        "id": "y4v7OV-tMejQ",
        "outputId": "74cbf5a7-37c0-407a-9c8d-ffd427cb4aa0"
      },
      "execution_count": 66,
      "outputs": [
        {
          "output_type": "execute_result",
          "data": {
            "text/plain": [
              "['this', 'is', 'a', 'house', 'built', 'this', 'year.']"
            ]
          },
          "metadata": {},
          "execution_count": 66
        }
      ]
    },
    {
      "cell_type": "code",
      "source": [
        "split을 통해 쪼갬"
      ],
      "metadata": {
        "id": "6B8B043IM55p"
      },
      "execution_count": null,
      "outputs": []
    },
    {
      "cell_type": "code",
      "source": [
        "s=s.strip()\n",
        "s"
      ],
      "metadata": {
        "colab": {
          "base_uri": "https://localhost:8080/",
          "height": 35
        },
        "id": "UtncUZvfNR-f",
        "outputId": "8c794e51-f553-4134-9adf-ef8208560487"
      },
      "execution_count": 67,
      "outputs": [
        {
          "output_type": "execute_result",
          "data": {
            "text/plain": [
              "'this is a house built this year.'"
            ],
            "application/vnd.google.colaboratory.intrinsic+json": {
              "type": "string"
            }
          },
          "metadata": {},
          "execution_count": 67
        }
      ]
    },
    {
      "cell_type": "code",
      "source": [
        "s=''.join(tokens)\n",
        "s"
      ],
      "metadata": {
        "colab": {
          "base_uri": "https://localhost:8080/",
          "height": 35
        },
        "id": "_5b9aenrNd2s",
        "outputId": "3949094e-73a5-4358-9c19-57e8761c9766"
      },
      "execution_count": 69,
      "outputs": [
        {
          "output_type": "execute_result",
          "data": {
            "text/plain": [
              "'thisisahousebuiltthisyear.'"
            ],
            "application/vnd.google.colaboratory.intrinsic+json": {
              "type": "string"
            }
          },
          "metadata": {},
          "execution_count": 69
        }
      ]
    },
    {
      "cell_type": "markdown",
      "source": [
        "join을 통해 합함"
      ],
      "metadata": {
        "id": "8CD3C3VLNjes"
      }
    },
    {
      "cell_type": "code",
      "source": [
        "s=s.replace('this', 'that')\n",
        "s"
      ],
      "metadata": {
        "colab": {
          "base_uri": "https://localhost:8080/",
          "height": 35
        },
        "id": "ak8esShRNlEb",
        "outputId": "d71c14a6-5d95-4320-e966-e44851d2446e"
      },
      "execution_count": 71,
      "outputs": [
        {
          "output_type": "execute_result",
          "data": {
            "text/plain": [
              "'thatisahousebuiltthatyear.'"
            ],
            "application/vnd.google.colaboratory.intrinsic+json": {
              "type": "string"
            }
          },
          "metadata": {},
          "execution_count": 71
        }
      ]
    },
    {
      "cell_type": "markdown",
      "source": [
        "this를 that으로 대체"
      ],
      "metadata": {
        "id": "mrKS4NFBNsEr"
      }
    },
    {
      "cell_type": "markdown",
      "source": [
        "함수 만드는 법\n",
        "def 함수명 (입력변수)"
      ],
      "metadata": {
        "id": "fROVOOdlNvBm"
      }
    },
    {
      "cell_type": "code",
      "source": [
        "def add (a, b):\n",
        "  return a+b\n",
        "\n",
        "def subtract (a, b): \n",
        "  return a-b\n",
        "\n",
        "def multiply (a, b):\n",
        "  return a*b"
      ],
      "metadata": {
        "id": "-bVhOx1xOBWJ"
      },
      "execution_count": 75,
      "outputs": []
    },
    {
      "cell_type": "code",
      "source": [
        "c= add (1,2); print(c)\n",
        "d= subtract (1, 2); print(d)\n",
        "e= multiply (1, 2); print(e)"
      ],
      "metadata": {
        "colab": {
          "base_uri": "https://localhost:8080/"
        },
        "id": "NuiAkCbOOlCW",
        "outputId": "dad726c4-5478-40b3-d4aa-d7f20b810f23"
      },
      "execution_count": 77,
      "outputs": [
        {
          "output_type": "stream",
          "name": "stdout",
          "text": [
            "3\n",
            "-1\n",
            "2\n"
          ]
        }
      ]
    },
    {
      "cell_type": "markdown",
      "source": [
        "Syntax\n",
        "<반복문: for\n",
        "조건문: if>"
      ],
      "metadata": {
        "id": "iC-no1PSPBsv"
      }
    },
    {
      "cell_type": "code",
      "source": [
        "a= [1, 2, 3, 4]\n",
        "for i in a :\n",
        "  print (i)"
      ],
      "metadata": {
        "colab": {
          "base_uri": "https://localhost:8080/"
        },
        "id": "a_FB4N2aPC6n",
        "outputId": "1b632aea-99f7-4122-cf23-74b755da0b06"
      },
      "execution_count": 81,
      "outputs": [
        {
          "output_type": "stream",
          "name": "stdout",
          "text": [
            "1\n",
            "2\n",
            "3\n",
            "4\n"
          ]
        }
      ]
    },
    {
      "cell_type": "code",
      "source": [
        "a= [1, 2, 3, 4]\n",
        "for i in range (4):\n",
        "  print(a[i])"
      ],
      "metadata": {
        "colab": {
          "base_uri": "https://localhost:8080/"
        },
        "id": "Z0SZ0tznPOEi",
        "outputId": "0d5e40ce-086e-4bb2-e0c4-3c63b308b596"
      },
      "execution_count": 82,
      "outputs": [
        {
          "output_type": "stream",
          "name": "stdout",
          "text": [
            "1\n",
            "2\n",
            "3\n",
            "4\n"
          ]
        }
      ]
    },
    {
      "cell_type": "code",
      "source": [
        "a=0\n",
        "if a==0:\n",
        "  print(a)"
      ],
      "metadata": {
        "colab": {
          "base_uri": "https://localhost:8080/"
        },
        "id": "GzKdfMytPp6V",
        "outputId": "7372b6c4-cb8f-4f57-c50f-0f8fc786701b"
      },
      "execution_count": 84,
      "outputs": [
        {
          "output_type": "stream",
          "name": "stdout",
          "text": [
            "0\n"
          ]
        }
      ]
    },
    {
      "cell_type": "markdown",
      "source": [
        "==은 같다는 뜻"
      ],
      "metadata": {
        "id": "UO8pXYRcPvRN"
      }
    },
    {
      "cell_type": "code",
      "source": [
        "a=0\n",
        "if a != 0:\n",
        "  print (a)\n",
        "else:\n",
        "  print(a+1)"
      ],
      "metadata": {
        "colab": {
          "base_uri": "https://localhost:8080/"
        },
        "id": "4g_22TISPqD2",
        "outputId": "3c3aadff-d9d6-4ae2-e022-f6c315ca11ce"
      },
      "execution_count": 87,
      "outputs": [
        {
          "output_type": "stream",
          "name": "stdout",
          "text": [
            "1\n"
          ]
        }
      ]
    },
    {
      "cell_type": "markdown",
      "source": [
        "!=은 같지 않다는 뜻, else는 '그렇지 않으면' 뜻"
      ],
      "metadata": {
        "id": "_yXNm5G1QHMb"
      }
    },
    {
      "cell_type": "code",
      "source": [
        "for i in range (1, 3):\n",
        "  for j in range (3, 5):\n",
        "    print(i*j)\n",
        "    "
      ],
      "metadata": {
        "colab": {
          "base_uri": "https://localhost:8080/"
        },
        "id": "JWSVTQWVPqOP",
        "outputId": "a32daed3-4ec6-43af-b0a5-510758621184"
      },
      "execution_count": 88,
      "outputs": [
        {
          "output_type": "stream",
          "name": "stdout",
          "text": [
            "3\n",
            "4\n",
            "6\n",
            "8\n"
          ]
        }
      ]
    },
    {
      "cell_type": "markdown",
      "source": [
        "range (1, 3)은 [1, 2]\n",
        "range (3, 5)은 [3, 4]"
      ],
      "metadata": {
        "id": "4jI4K2MKQahL"
      }
    },
    {
      "cell_type": "code",
      "source": [
        "a= [1, 2, 3, 4]\n",
        "b= [i for i in a if i>=2]\n",
        "print (b)"
      ],
      "metadata": {
        "colab": {
          "base_uri": "https://localhost:8080/"
        },
        "id": "yARFD94UQiRb",
        "outputId": "8f31d016-25ef-4230-e2de-cc4221493e8e"
      },
      "execution_count": 92,
      "outputs": [
        {
          "output_type": "stream",
          "name": "stdout",
          "text": [
            "[2, 3, 4]\n"
          ]
        }
      ]
    },
    {
      "cell_type": "markdown",
      "source": [
        "2보다 크거나 같으면 적어라"
      ],
      "metadata": {
        "id": "wmT7kXHtRGfQ"
      }
    },
    {
      "cell_type": "code",
      "source": [
        "a=['red', 'green','blue','purple']\n",
        "b=[1, 2, 3, 4]\n",
        "c= {a[i]:b[i] for i in range (4)}\n",
        "c"
      ],
      "metadata": {
        "colab": {
          "base_uri": "https://localhost:8080/"
        },
        "id": "QrVhqrO6RJNH",
        "outputId": "e1792f98-1ead-4d48-cfe4-428b694fc964"
      },
      "execution_count": 95,
      "outputs": [
        {
          "output_type": "execute_result",
          "data": {
            "text/plain": [
              "{'blue': 3, 'green': 2, 'purple': 4, 'red': 1}"
            ]
          },
          "metadata": {},
          "execution_count": 95
        }
      ]
    },
    {
      "cell_type": "markdown",
      "source": [
        "Package\n",
        "1) 유명한 것들은 거의 install 되어있으나, \"import\"를 써야 이용 가능\n",
        "2) 'print' 같은 건 built in 이기 때문에 바로 이용 가능\n",
        "3) 나머지 package들은 직접 intall 해야 함"
      ],
      "metadata": {
        "id": "WmzcfXUBRjGX"
      }
    },
    {
      "cell_type": "code",
      "source": [
        "import numpy as np\n",
        "n = np.random.randn(100)"
      ],
      "metadata": {
        "id": "nMnYOO2_UUk1"
      },
      "execution_count": 109,
      "outputs": []
    },
    {
      "cell_type": "markdown",
      "source": [
        "package 작성법\n",
        "1. import matplotlib\n",
        "matplotlib. pyplot. hist(n)\n",
        "2. import matplotlib. pyplot as plt\n",
        "plt. hist (n)\n",
        "3. import matplotlib, pyplot\n",
        "matplotlib. pyplot. hist(n)\n",
        "4. from matplotlib import pyplot\n",
        "pyplot. hist (n)"
      ],
      "metadata": {
        "id": "6jxTXbwCSGpS"
      }
    },
    {
      "cell_type": "markdown",
      "source": [
        "matrix = 행렬"
      ],
      "metadata": {
        "id": "7WSTzqb1SXv7"
      }
    },
    {
      "cell_type": "code",
      "source": [
        "import numpy as np\n",
        "x= np.array([1, 2, 3])\n",
        "print(x)\n",
        "print(type(x))\n",
        "print(x.shape)\n"
      ],
      "metadata": {
        "colab": {
          "base_uri": "https://localhost:8080/"
        },
        "id": "__LO3BhOSabL",
        "outputId": "0bbb048c-1967-4093-f265-bb16a3518999"
      },
      "execution_count": 98,
      "outputs": [
        {
          "output_type": "stream",
          "name": "stdout",
          "text": [
            "[1 2 3]\n",
            "<class 'numpy.ndarray'>\n",
            "(3,)\n"
          ]
        }
      ]
    },
    {
      "cell_type": "code",
      "source": [
        "x=np.arange(0, 10, 2)\n",
        "print(x)\n",
        "print(type(x))\n",
        "print(x.shape)"
      ],
      "metadata": {
        "colab": {
          "base_uri": "https://localhost:8080/"
        },
        "id": "3Rfow6JMRiAG",
        "outputId": "77da7401-c83e-4e45-ba1d-e89f18e53306"
      },
      "execution_count": 101,
      "outputs": [
        {
          "output_type": "stream",
          "name": "stdout",
          "text": [
            "[0 2 4 6 8]\n",
            "<class 'numpy.ndarray'>\n",
            "(5,)\n"
          ]
        }
      ]
    },
    {
      "cell_type": "markdown",
      "source": [
        "2는 increment"
      ],
      "metadata": {
        "id": "LUJnMdLNS77N"
      }
    },
    {
      "cell_type": "code",
      "source": [
        "x= np. linspace (0, 10, 6)\n",
        "print(x)\n",
        "print(type(x))\n",
        "print(x. shape)"
      ],
      "metadata": {
        "colab": {
          "base_uri": "https://localhost:8080/"
        },
        "id": "mpXssm-NS-UU",
        "outputId": "bf3c4b73-1b8f-4f77-b4f8-5aa23e469833"
      },
      "execution_count": 102,
      "outputs": [
        {
          "output_type": "stream",
          "name": "stdout",
          "text": [
            "[ 0.  2.  4.  6.  8. 10.]\n",
            "<class 'numpy.ndarray'>\n",
            "(6,)\n"
          ]
        }
      ]
    },
    {
      "cell_type": "markdown",
      "source": [
        "10은 포함!, 0부터 10까지 등분하여 총 6가지 숫자를 만들어라"
      ],
      "metadata": {
        "id": "fIU_kGikTIuo"
      }
    },
    {
      "cell_type": "code",
      "source": [
        "x=np.array([[1, 2, 3,], [4, 5, 6]])\n",
        "print (x)\n",
        "print (type (x))\n",
        "print(x. shape)"
      ],
      "metadata": {
        "colab": {
          "base_uri": "https://localhost:8080/"
        },
        "id": "X-xQtEryTgUZ",
        "outputId": "19f99990-ca7f-4745-bbfe-78dcf2fc134d"
      },
      "execution_count": 105,
      "outputs": [
        {
          "output_type": "stream",
          "name": "stdout",
          "text": [
            "[[1 2 3]\n",
            " [4 5 6]]\n",
            "<class 'numpy.ndarray'>\n",
            "(2, 3)\n"
          ]
        }
      ]
    },
    {
      "cell_type": "code",
      "source": [
        "import matplotlib.pyplot as plt"
      ],
      "metadata": {
        "id": "HTbDL8fIU0ge"
      },
      "execution_count": 110,
      "outputs": []
    },
    {
      "cell_type": "code",
      "source": [
        "x = np.random.normal(0, 1, 100)\n",
        "print(x)\n",
        "plt.hist(x, bins=10)"
      ],
      "metadata": {
        "colab": {
          "base_uri": "https://localhost:8080/",
          "height": 664
        },
        "id": "BdQNrDuqUqW0",
        "outputId": "7fa13fc3-894e-4885-cd6d-0efad915b3bc"
      },
      "execution_count": 111,
      "outputs": [
        {
          "output_type": "stream",
          "name": "stdout",
          "text": [
            "[-2.49751092 -0.19212318  0.38572104  0.07636879 -1.09561652 -1.01842007\n",
            " -2.42764329  0.50138449  0.91720736 -1.42567989  1.36647282 -0.20335613\n",
            " -0.54534389  1.42514881 -0.02376579  1.06872045  1.84074147  0.19621371\n",
            " -0.30245459  0.22773082 -1.55063984  1.05844954  1.41169918  1.62302812\n",
            " -0.36484434  1.17568741 -0.17987773  0.59391201  0.59214585 -1.40530894\n",
            "  0.03275566  1.70150378  0.55683393 -1.58230308  0.44261637  1.15544873\n",
            " -0.41349365 -0.47093978  2.59944833  2.19914401 -1.52289417  1.0126003\n",
            "  0.94560284 -0.67752911  0.22881675  0.87483005  1.32478038  0.01414917\n",
            " -0.777997    0.24579528  1.79344174 -1.83377865 -0.36315036  0.08702305\n",
            "  1.30167798  1.0808976   1.75257014 -0.89761851 -0.58024392 -0.53481244\n",
            "  1.47312736 -0.90190783 -1.8217192  -0.31843449  1.05536128 -0.38858154\n",
            "  0.0975185   0.49691258 -0.83644439 -0.48215059  0.03005699  1.59045857\n",
            "  0.74181845  0.43037421  1.39930341 -1.15345585  1.73262679 -0.19857702\n",
            " -0.15622441  1.9517671  -0.62267087  0.13801641  0.02399995 -0.34965157\n",
            "  1.10345807  1.59309901 -1.43171442 -1.34622982  0.09483042 -1.47530934\n",
            " -0.68904573 -0.85912161 -0.46365384 -0.89128163  0.88244839 -0.82896633\n",
            "  0.5194268  -1.19776423  1.02901602  2.29471201]\n"
          ]
        },
        {
          "output_type": "execute_result",
          "data": {
            "text/plain": [
              "(array([ 2.,  5.,  9., 16., 17., 16., 12., 11.,  9.,  3.]),\n",
              " array([-2.49751092, -1.98781499, -1.47811907, -0.96842314, -0.45872722,\n",
              "         0.05096871,  0.56066463,  1.07036056,  1.58005648,  2.0897524 ,\n",
              "         2.59944833]),\n",
              " <a list of 10 Patch objects>)"
            ]
          },
          "metadata": {},
          "execution_count": 111
        },
        {
          "output_type": "display_data",
          "data": {
            "text/plain": [
              "<Figure size 432x288 with 1 Axes>"
            ],
            "image/png": "[encoded data removed]"
          },
          "metadata": {
            "needs_background": "light"
          }
        }
      ]
    },
    {
      "cell_type": "markdown",
      "source": [
        "Sine Curve 만들기"
      ],
      "metadata": {
        "id": "sh9STXrXU8GA"
      }
    },
    {
      "cell_type": "code",
      "source": [
        "plt.figure()\n",
        "\n",
        "theta1 = np.linspace(0, 2*np.pi, 100)\n",
        "s1 = np.sin(theta1)\n",
        "theta2 = np.linspace(0, 2*np.pi, 100) + np.pi/2\n",
        "s2 = np.sin(theta2)\n",
        "\n",
        "plt.subplot(2, 1, 1)\n",
        "plt.plot(theta1, s1, '.')\n",
        "plt.subplot(2, 1, 2)\n",
        "plt.plot(theta2, s2, '.')\n"
      ],
      "metadata": {
        "colab": {
          "base_uri": "https://localhost:8080/",
          "height": 283
        },
        "id": "9lOtfgx8VAmC",
        "outputId": "20c9f389-7431-4269-f3b2-94934ca8f0c8"
      },
      "execution_count": 113,
      "outputs": [
        {
          "output_type": "execute_result",
          "data": {
            "text/plain": [
              "[<matplotlib.lines.Line2D at 0x7fea34a264d0>]"
            ]
          },
          "metadata": {},
          "execution_count": 113
        },
        {
          "output_type": "display_data",
          "data": {
            "text/plain": [
              "<Figure size 432x288 with 2 Axes>"
            ],
            "image/png": "[encoded data removed]"
          },
          "metadata": {
            "needs_background": "light"
          }
        }
      ]
    },
    {
      "cell_type": "markdown",
      "source": [
        "plr. subplot(2, 1, 1) 에서 괄호 안은 순서대로 rows, columns, panel number을 뜻함"
      ],
      "metadata": {
        "id": "aKNv-qpBV6ng"
      }
    },
    {
      "cell_type": "markdown",
      "source": [
        ""
      ],
      "metadata": {
        "id": "P0H9tl8mV4rF"
      }
    }
  ]
}